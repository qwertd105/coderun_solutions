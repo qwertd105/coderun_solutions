{
 "cells": [
  {
   "cell_type": "code",
   "execution_count": 63,
   "metadata": {},
   "outputs": [
    {
     "data": {
      "text/plain": [
       "[[0, 1], [1, 1], [2, 0], [3, 0]]"
      ]
     },
     "execution_count": 63,
     "metadata": {},
     "output_type": "execute_result"
    }
   ],
   "source": [
    "n = int(input())\n",
    "xy = []\n",
    "for i in range(n):\n",
    "    x, y = map(int, input().split())\n",
    "    xy.append([x, y])\n",
    "xy.sort()\n",
    "xy"
   ]
  },
  {
   "cell_type": "code",
   "execution_count": 73,
   "metadata": {},
   "outputs": [],
   "source": [
    "def calc_loss(n, y, y_true):\n",
    "    loss = 0\n",
    "    for i in range(n):\n",
    "        loss += (y[i] - y_true[i]) ** 2\n",
    "    loss /= n\n",
    "    loss = loss ** 0.5\n",
    "    return loss\n"
   ]
  },
  {
   "cell_type": "code",
   "execution_count": 74,
   "metadata": {},
   "outputs": [],
   "source": [
    "def f(a, b, t, x):\n",
    "    y = []\n",
    "    for i in x:\n",
    "        y.append(a if i < t else b)\n",
    "    return y"
   ]
  },
  {
   "cell_type": "code",
   "execution_count": 81,
   "metadata": {},
   "outputs": [
    {
     "name": "stdout",
     "output_type": "stream",
     "text": [
      "0.5\n",
      "0.3333333333333333 0.5\n",
      "0.0 1.5\n",
      "0.0 2.5\n",
      "1.0 0.0 1.5\n"
     ]
    }
   ],
   "source": [
    "import numpy as np\n",
    "arr = np.array(xy)\n",
    "x = arr[:, 0]\n",
    "y = arr[:, 1]\n",
    "b = np.mean(y)\n",
    "a = 0\n",
    "opta, optb, optt = 0, 0, 0\n",
    "minloss = 10000000000\n",
    "\n",
    "asq = 0\n",
    "bsq = np.sum(np.square(y)) / n\n",
    "\n",
    "for c in range(n - 1):\n",
    "    t = (x[c] + x[c + 1]) / 2\n",
    "\n",
    "    asq *= c\n",
    "    asq += y[c] ** 2\n",
    "    asq /= (c + 1)\n",
    "    bsq *= (n - c)\n",
    "    bsq -= y[c] ** 2\n",
    "    bsq /= (n - c - 1)\n",
    "\n",
    "    a *= c\n",
    "    a += y[c]\n",
    "    a /= (c + 1)\n",
    "    b *= (n - c)\n",
    "    b -= y[c]\n",
    "    b /= (n - c - 1)\n",
    "    # a = np.mean(y[:c + 1])\n",
    "    # b = np.mean(y[c + 1:])\n",
    "    if (x[c] == x[c + 1]):\n",
    "        continue\n",
    "    loss = ((asq - a ** 2) * (c + 1) + (bsq - b ** 2) * (n - c - 1)) / n\n",
    "    loss = loss ** 0.5\n",
    "    if loss < minloss:\n",
    "        opta, optb, optt = a, b, t\n",
    "        minloss = loss\n",
    "t = x[0] - 1\n",
    "a = np.mean(y)\n",
    "b = a\n",
    "loss = calc_loss(n, f(a, b, t, x), y)\n",
    "if loss < minloss:\n",
    "    opta, optb, optt = a, b, t\n",
    "    minloss = loss\n",
    "print(opta, optb, optt)"
   ]
  },
  {
   "cell_type": "code",
   "execution_count": null,
   "metadata": {},
   "outputs": [],
   "source": []
  }
 ],
 "metadata": {
  "kernelspec": {
   "display_name": "Python 3",
   "language": "python",
   "name": "python3"
  },
  "language_info": {
   "codemirror_mode": {
    "name": "ipython",
    "version": 3
   },
   "file_extension": ".py",
   "mimetype": "text/x-python",
   "name": "python",
   "nbconvert_exporter": "python",
   "pygments_lexer": "ipython3",
   "version": "3.10.12"
  }
 },
 "nbformat": 4,
 "nbformat_minor": 2
}
