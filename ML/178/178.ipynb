{
 "cells": [
  {
   "cell_type": "code",
   "execution_count": 63,
   "metadata": {},
   "outputs": [
    {
     "data": {
      "text/plain": [
       "[[0, 1], [1, 1], [2, 0], [3, 0]]"
      ]
     },
     "execution_count": 63,
     "metadata": {},
     "output_type": "execute_result"
    }
   ],
   "source": [
    "n = int(input())\n",
    "xy = []\n",
    "for i in range(n):\n",
    "    x, y = map(int, input().split())\n",
    "    xy.append([x, y])\n",
    "xy.sort()\n",
    "xy"
   ]
  },
  {
   "cell_type": "code",
   "execution_count": 73,
   "metadata": {},
   "outputs": [],
   "source": [
    "def calc_loss(n, y, y_true):\n",
    "    loss = 0\n",
    "    for i in range(n):\n",
    "        loss += (y[i] - y_true[i]) ** 2\n",
    "    loss /= n\n",
    "    loss = loss ** 0.5\n",
    "    return loss\n"
   ]
  },
  {
   "cell_type": "code",
   "execution_count": 74,
   "metadata": {},
   "outputs": [],
   "source": [
    "def f(a, b, t, x):\n",
    "    y = []\n",
    "    for i in x:\n",
    "        y.append(a if i < t else b)\n",
    "    return y"
   ]
  },
  {
   "cell_type": "code",
   "execution_count": 81,
   "metadata": {},
   "outputs": [
    {
     "name": "stdout",
     "output_type": "stream",
     "text": [
      "0.5\n",
      "0.3333333333333333 0.5\n",
      "0.0 1.5\n",
      "0.0 2.5\n",
      "1.0 0.0 1.5\n"
     ]
    }
   ],
   "source": [
    "import numpy as np\n",
    "arr = np.array(xy)\n",
    "x = arr[:, 0]\n",
    "y = arr[:, 1]\n",
    "b = np.mean(y)\n",
    "a = 0\n",
    "opta, optb, optt = 0, 0, 0\n",
    "minloss = 10000000000\n",
    "\n",
    "asq = 0\n",
    "bsq = np.sum(np.square(y)) / n\n",
    "\n",
    "for c in range(n - 1):\n",
    "    t = (x[c] + x[c + 1]) / 2\n",
    "\n",
    "    asq *= c\n",
    "    asq += y[c] ** 2\n",
    "    asq /= (c + 1)\n",
    "    bsq *= (n - c)\n",
    "    bsq -= y[c] ** 2\n",
    "    bsq /= (n - c - 1)\n",
    "\n",
    "    a *= c\n",
    "    a += y[c]\n",
    "    a /= (c + 1)\n",
    "    b *= (n - c)\n",
    "    b -= y[c]\n",
    "    b /= (n - c - 1)\n",
    "    # a = np.mean(y[:c + 1])\n",
    "    # b = np.mean(y[c + 1:])\n",
    "    loss = ((asq - a ** 2) * (c + 1) + (bsq - b ** 2) * (n - c - 1)) / n\n",
    "    loss = loss ** 0.5\n",
    "    if loss < minloss:\n",
    "        opta, optb, optt = a, b, t\n",
    "        minloss = loss\n",
    "t = x[0] - 1\n",
    "a = np.mean(y)\n",
    "b = a\n",
    "loss = calc_loss(n, f(a, b, t, x), y)\n",
    "if loss < minloss:\n",
    "    opta, optb, optt = a, b, t\n",
    "    minloss = loss\n",
    "print(opta, optb, optt)"
   ]
  },
  {
   "cell_type": "code",
   "execution_count": 76,
   "metadata": {},
   "outputs": [
    {
     "name": "stderr",
     "output_type": "stream",
     "text": [
      "/home/alexp/.local/lib/python3.10/site-packages/numpy/_core/fromnumeric.py:3904: RuntimeWarning: Mean of empty slice.\n",
      "  return _methods._mean(a, axis=axis, dtype=dtype,\n",
      "/home/alexp/.local/lib/python3.10/site-packages/numpy/_core/_methods.py:147: RuntimeWarning: invalid value encountered in scalar divide\n",
      "  ret = ret.dtype.type(ret / rcount)\n"
     ]
    },
    {
     "data": {
      "text/plain": [
       "np.float64(nan)"
      ]
     },
     "execution_count": 76,
     "metadata": {},
     "output_type": "execute_result"
    }
   ],
   "source": [
    "np.mean(arr[:, 1][4:])"
   ]
  },
  {
   "cell_type": "code",
   "execution_count": 51,
   "metadata": {},
   "outputs": [
    {
     "data": {
      "text/plain": [
       "np.float64(0.0)"
      ]
     },
     "execution_count": 51,
     "metadata": {},
     "output_type": "execute_result"
    }
   ],
   "source": [
    "calc_loss(n, f(1, 0, 1.5, x), y)"
   ]
  },
  {
   "cell_type": "code",
   "execution_count": 43,
   "metadata": {},
   "outputs": [
    {
     "data": {
      "text/plain": [
       "array([1, 1])"
      ]
     },
     "execution_count": 43,
     "metadata": {},
     "output_type": "execute_result"
    }
   ],
   "source": [
    "arr[:, 1][:1 + 1]"
   ]
  },
  {
   "cell_type": "code",
   "execution_count": 42,
   "metadata": {},
   "outputs": [
    {
     "data": {
      "text/plain": [
       "array([0, 0])"
      ]
     },
     "execution_count": 42,
     "metadata": {},
     "output_type": "execute_result"
    }
   ],
   "source": [
    "arr[:, 1][1 + 1:]"
   ]
  },
  {
   "cell_type": "code",
   "execution_count": 62,
   "metadata": {},
   "outputs": [
    {
     "data": {
      "text/plain": [
       "array([1])"
      ]
     },
     "execution_count": 62,
     "metadata": {},
     "output_type": "execute_result"
    }
   ],
   "source": [
    "y[0:]"
   ]
  },
  {
   "cell_type": "code",
   "execution_count": 72,
   "metadata": {},
   "outputs": [
    {
     "data": {
      "text/plain": [
       "np.int64(14)"
      ]
     },
     "execution_count": 72,
     "metadata": {},
     "output_type": "execute_result"
    }
   ],
   "source": [
    "a = np.array([1, 2, 3])\n",
    "np.sum(np.square(a))"
   ]
  },
  {
   "cell_type": "code",
   "execution_count": 87,
   "metadata": {},
   "outputs": [
    {
     "data": {
      "text/plain": [
       "array([[ 1,  1],\n",
       "       [ 1, 11],\n",
       "       [ 2,  1],\n",
       "       [ 3,  2],\n",
       "       [ 2,  3]])"
      ]
     },
     "execution_count": 87,
     "metadata": {},
     "output_type": "execute_result"
    }
   ],
   "source": [
    "np.unique(np.array([[1, 1], [1, 11], [2, 1], [3, 2], [2, 3]]), axis=1)"
   ]
  },
  {
   "cell_type": "code",
   "execution_count": null,
   "metadata": {},
   "outputs": [],
   "source": []
  }
 ],
 "metadata": {
  "kernelspec": {
   "display_name": "Python 3",
   "language": "python",
   "name": "python3"
  },
  "language_info": {
   "codemirror_mode": {
    "name": "ipython",
    "version": 3
   },
   "file_extension": ".py",
   "mimetype": "text/x-python",
   "name": "python",
   "nbconvert_exporter": "python",
   "pygments_lexer": "ipython3",
   "version": "3.10.12"
  }
 },
 "nbformat": 4,
 "nbformat_minor": 2
}
